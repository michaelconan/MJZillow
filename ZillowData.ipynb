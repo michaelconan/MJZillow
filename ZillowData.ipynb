{
  "nbformat": 4,
  "nbformat_minor": 0,
  "metadata": {
    "colab": {
      "name": "ZillowData.ipynb",
      "provenance": [],
      "collapsed_sections": [],
      "include_colab_link": true
    },
    "kernelspec": {
      "name": "python3",
      "display_name": "Python 3"
    }
  },
  "cells": [
    {
      "cell_type": "markdown",
      "metadata": {
        "id": "view-in-github",
        "colab_type": "text"
      },
      "source": [
        "<a href=\"https://colab.research.google.com/github/michaelconan/MJZillow/blob/master/ZillowData.ipynb\" target=\"_parent\"><img src=\"https://colab.research.google.com/assets/colab-badge.svg\" alt=\"Open In Colab\"/></a>"
      ]
    },
    {
      "cell_type": "markdown",
      "metadata": {
        "id": "4_cKaK21_7y2",
        "colab_type": "text"
      },
      "source": [
        "## Documentation:\n",
        "\n",
        "Following [this guy](https://www.youtube.com/watch?v=i3PbO46Ppu0&list=PLT8WeU5lHsiRgqUP0R63wCuwL_CgWNc7W) on YouTube showing how to query the API.\n",
        "\n",
        "Signed up for the API on both personal and work emails but still getting 'account not authorized' error so I found this other key I'm using from the internet. \n",
        "\n",
        "Resources:\n",
        "- [Zillow API documentation](https://www.zillow.com/howto/api/GetComps.htm) (not great honestly)\n",
        "- [Python-zillow docs](https://github.com/seme0021/python-zillow/blob/master/README.md)\n",
        "- [PyZillow docs](https://pyzillow.readthedocs.io/en/latest/pyzillow.html#the-getdeepsearchresults-class)\n",
        "-[Zillow housing data](https://www.zillow.com/research/data/) (for historical - home values, rent prices, listing prices, etc)\n",
        "\n",
        "Others:\n",
        "- [Zillow Econ Data API](https://documenter.getpostman.com/view/9197254/SzRuZCCj?version=latest) - would need to request access"
      ]
    },
    {
      "cell_type": "code",
      "metadata": {
        "id": "p-IPszCUmpnN",
        "colab_type": "code",
        "colab": {
          "base_uri": "https://localhost:8080/",
          "height": 122
        },
        "outputId": "5727dbb5-3a8e-428a-88c1-0b2d72eb03ae"
      },
      "source": [
        "from google.colab import drive\n",
        "drive.mount('/content/drive')"
      ],
      "execution_count": 15,
      "outputs": [
        {
          "output_type": "stream",
          "text": [
            "Go to this URL in a browser: https://accounts.google.com/o/oauth2/auth?client_id=947318989803-6bn6qk8qdgf4n4g3pfee6491hc0brc4i.apps.googleusercontent.com&redirect_uri=urn%3aietf%3awg%3aoauth%3a2.0%3aoob&response_type=code&scope=email%20https%3a%2f%2fwww.googleapis.com%2fauth%2fdocs.test%20https%3a%2f%2fwww.googleapis.com%2fauth%2fdrive%20https%3a%2f%2fwww.googleapis.com%2fauth%2fdrive.photos.readonly%20https%3a%2f%2fwww.googleapis.com%2fauth%2fpeopleapi.readonly\n",
            "\n",
            "Enter your authorization code:\n",
            "··········\n",
            "Mounted at /content/drive\n"
          ],
          "name": "stdout"
        }
      ]
    },
    {
      "cell_type": "code",
      "metadata": {
        "id": "YA5VYGes6LHA",
        "colab_type": "code",
        "colab": {
          "base_uri": "https://localhost:8080/",
          "height": 357
        },
        "outputId": "e79b5973-5e5a-4b9b-9cb5-1a606e86a204"
      },
      "source": [
        "!pip install python-zillow\n",
        "!pip install pyzillow"
      ],
      "execution_count": null,
      "outputs": [
        {
          "output_type": "stream",
          "text": [
            "Collecting python-zillow\n",
            "  Downloading https://files.pythonhosted.org/packages/32/cf/73adf545bca7588e58d94b091fcda914cb37f1659177e6298ccf82412685/python_zillow-0.2.0-py2.py3-none-any.whl\n",
            "Requirement already satisfied: requests in /usr/local/lib/python3.6/dist-packages (from python-zillow) (2.23.0)\n",
            "Collecting xmltodict\n",
            "  Downloading https://files.pythonhosted.org/packages/28/fd/30d5c1d3ac29ce229f6bdc40bbc20b28f716e8b363140c26eff19122d8a5/xmltodict-0.12.0-py2.py3-none-any.whl\n",
            "Requirement already satisfied: chardet<4,>=3.0.2 in /usr/local/lib/python3.6/dist-packages (from requests->python-zillow) (3.0.4)\n",
            "Requirement already satisfied: idna<3,>=2.5 in /usr/local/lib/python3.6/dist-packages (from requests->python-zillow) (2.9)\n",
            "Requirement already satisfied: certifi>=2017.4.17 in /usr/local/lib/python3.6/dist-packages (from requests->python-zillow) (2020.6.20)\n",
            "Requirement already satisfied: urllib3!=1.25.0,!=1.25.1,<1.26,>=1.21.1 in /usr/local/lib/python3.6/dist-packages (from requests->python-zillow) (1.24.3)\n",
            "Installing collected packages: xmltodict, python-zillow\n",
            "Successfully installed python-zillow-0.2.0 xmltodict-0.12.0\n",
            "Collecting pyzillow\n",
            "  Downloading https://files.pythonhosted.org/packages/92/7f/c81039e2bd95eb506453ea75451290f7a533953a03e00205e6febfd26ef3/pyzillow-0.7.0-py2.py3-none-any.whl\n",
            "Requirement already satisfied: requests in /usr/local/lib/python3.6/dist-packages (from pyzillow) (2.23.0)\n",
            "Requirement already satisfied: certifi>=2017.4.17 in /usr/local/lib/python3.6/dist-packages (from requests->pyzillow) (2020.6.20)\n",
            "Requirement already satisfied: chardet<4,>=3.0.2 in /usr/local/lib/python3.6/dist-packages (from requests->pyzillow) (3.0.4)\n",
            "Requirement already satisfied: urllib3!=1.25.0,!=1.25.1,<1.26,>=1.21.1 in /usr/local/lib/python3.6/dist-packages (from requests->pyzillow) (1.24.3)\n",
            "Requirement already satisfied: idna<3,>=2.5 in /usr/local/lib/python3.6/dist-packages (from requests->pyzillow) (2.9)\n",
            "Installing collected packages: pyzillow\n",
            "Successfully installed pyzillow-0.7.0\n"
          ],
          "name": "stdout"
        }
      ]
    },
    {
      "cell_type": "code",
      "metadata": {
        "id": "27ygQTJUIqyJ",
        "colab_type": "code",
        "colab": {}
      },
      "source": [
        "# Other imports\n",
        "import json\n",
        "import xml.etree.ElementTree as ET\n",
        "import pandas as pd"
      ],
      "execution_count": null,
      "outputs": []
    },
    {
      "cell_type": "code",
      "metadata": {
        "id": "9hvXyRsN5Olx",
        "colab_type": "code",
        "colab": {}
      },
      "source": [
        "# From the youtube video...\n",
        "import zillow\n",
        "import pprint\n",
        "import locale"
      ],
      "execution_count": null,
      "outputs": []
    },
    {
      "cell_type": "code",
      "metadata": {
        "id": "EAkI0_qi5UsW",
        "colab_type": "code",
        "colab": {}
      },
      "source": [
        "# Starting with the dudeplex, cuz why not\n",
        "mykey = 'X1-ZWz1hs7isvnh1n_4rdd9'\n",
        "key = 'X1-ZWz1bb4e622vbf_7rj5m' # Figuring out my ZWSID so this is a rando from the net...\n",
        "address = '11575 SW Lomita Ave, Tigard, OR'\n",
        "postal_code = '97223'"
      ],
      "execution_count": null,
      "outputs": []
    },
    {
      "cell_type": "code",
      "metadata": {
        "id": "4XL3wABP6w07",
        "colab_type": "code",
        "colab": {}
      },
      "source": [
        "# From another library I found\n",
        "from pyzillow.pyzillow import ZillowWrapper, GetDeepSearchResults\n",
        "zillow_data = ZillowWrapper(key)"
      ],
      "execution_count": null,
      "outputs": []
    },
    {
      "cell_type": "code",
      "metadata": {
        "id": "MVIYq4tp6qk-",
        "colab_type": "code",
        "colab": {}
      },
      "source": [
        "# Zillow library search results (/deep)\n",
        "api = zillow.ValuationApi()\n",
        "data = api.GetSearchResults(key,address,postal_code)"
      ],
      "execution_count": null,
      "outputs": []
    },
    {
      "cell_type": "code",
      "metadata": {
        "id": "iKrROYw1_BQy",
        "colab_type": "code",
        "colab": {}
      },
      "source": [
        "pp = pprint.PrettyPrinter(indent=4)"
      ],
      "execution_count": null,
      "outputs": []
    },
    {
      "cell_type": "code",
      "metadata": {
        "id": "JJbLKwa6_lAH",
        "colab_type": "code",
        "colab": {
          "base_uri": "https://localhost:8080/",
          "height": 646
        },
        "outputId": "2600444f-3528-4aa9-ade6-65ddf06f014c"
      },
      "source": [
        "deep_results = api.GetDeepSearchResults(key,address,postal_code)\n",
        "pp.pprint(deep_results.get_dict())"
      ],
      "execution_count": null,
      "outputs": [
        {
          "output_type": "stream",
          "text": [
            "{   'extended_data': {   'bathrooms': '2.0',\n",
            "                         'bedrooms': '4',\n",
            "                         'complete': True,\n",
            "                         'finished_sqft': '1728',\n",
            "                         'fips_county': '41067',\n",
            "                         'last_sold_date': '09/28/2018',\n",
            "                         'last_sold_price': '390000',\n",
            "                         'lot_size_sqft': '7841',\n",
            "                         'tax_assessment': '331990.0',\n",
            "                         'tax_assessment_year': '2019',\n",
            "                         'usecode': 'MultiFamily2To4',\n",
            "                         'year_built': '1962'},\n",
            "    'full_address': {   'city': 'Tigard',\n",
            "                        'latitude': '45.436425',\n",
            "                        'longitude': '-122.76843',\n",
            "                        'state': 'OR',\n",
            "                        'street': '11575 SW Lomita Ave',\n",
            "                        'zipcode': '97223'},\n",
            "    'links': {   'comparables': 'http://www.zillow.com/homes/comps/48590190_zpid/',\n",
            "                 'graphs_and_data': 'http://www.zillow.com/homedetails/11575-SW-Lomita-Ave-Tigard-OR-97223/48590190_zpid/#charts-and-data',\n",
            "                 'home_details': 'https://www.zillow.com/homedetails/11575-SW-Lomita-Ave-Tigard-OR-97223/48590190_zpid/',\n",
            "                 'map_this_home': 'http://www.zillow.com/homes/48590190_zpid/'},\n",
            "    'local_realestate': {   'fsbo_link': 'http://www.zillow.com/greenburg-road-tigard-or/fsbo/',\n",
            "                            'overview_link': 'http://www.zillow.com/local-info/OR-Tigard/Greenburg-Road/r_399414/',\n",
            "                            'region_id': '399414',\n",
            "                            'region_name': 'Greenburg Road',\n",
            "                            'region_type': 'neighborhood',\n",
            "                            'sale_link': 'http://www.zillow.com/greenburg-road-tigard-or/',\n",
            "                            'zillow_home_value_index': None},\n",
            "    'similarity_score': None,\n",
            "    'zestimate': {   'amount': 410214,\n",
            "                     'amount_change_30days': -2844,\n",
            "                     'amount_currency': 'USD',\n",
            "                     'amount_last_updated': '06/28/2020',\n",
            "                     'valuation_range_high': 434827,\n",
            "                     'valuation_range_low': 385601},\n",
            "    'zpid': '48590190'}\n"
          ],
          "name": "stdout"
        }
      ]
    },
    {
      "cell_type": "code",
      "metadata": {
        "id": "Btp1gNg2tHaV",
        "colab_type": "code",
        "colab": {
          "base_uri": "https://localhost:8080/",
          "height": 646
        },
        "outputId": "45427ddb-74d1-438d-d5eb-5bbd6dc9f698"
      },
      "source": [
        "test = api.GetDeepSearchResults(key,'7775 SW Hillcrest Pl','Beaverton OR')\n",
        "pp.pprint(test.get_dict())"
      ],
      "execution_count": 22,
      "outputs": [
        {
          "output_type": "stream",
          "text": [
            "{   'extended_data': {   'bathrooms': '4.0',\n",
            "                         'bedrooms': '6',\n",
            "                         'complete': True,\n",
            "                         'finished_sqft': '2610',\n",
            "                         'fips_county': '41067',\n",
            "                         'last_sold_date': '10/07/2019',\n",
            "                         'last_sold_price': '581000',\n",
            "                         'lot_size_sqft': '8276',\n",
            "                         'tax_assessment': '537320.0',\n",
            "                         'tax_assessment_year': '2019',\n",
            "                         'usecode': 'MultiFamily2To4',\n",
            "                         'year_built': '1969'},\n",
            "    'full_address': {   'city': 'Beaverton',\n",
            "                        'latitude': '45.46359',\n",
            "                        'longitude': '-122.799392',\n",
            "                        'state': 'OR',\n",
            "                        'street': '7775 SW Hillcrest Pl',\n",
            "                        'zipcode': '97008'},\n",
            "    'links': {   'comparables': 'http://www.zillow.com/homes/comps/48550581_zpid/',\n",
            "                 'graphs_and_data': 'http://www.zillow.com/homedetails/7775-SW-Hillcrest-Pl-Beaverton-OR-97008/48550581_zpid/#charts-and-data',\n",
            "                 'home_details': 'https://www.zillow.com/homedetails/7775-SW-Hillcrest-Pl-Beaverton-OR-97008/48550581_zpid/',\n",
            "                 'map_this_home': 'http://www.zillow.com/homes/48550581_zpid/'},\n",
            "    'local_realestate': {   'fsbo_link': 'http://www.zillow.com/vose-beaverton-or/fsbo/',\n",
            "                            'overview_link': 'http://www.zillow.com/local-info/OR-Beaverton/Vose/r_275899/',\n",
            "                            'region_id': '275899',\n",
            "                            'region_name': 'Vose',\n",
            "                            'region_type': 'neighborhood',\n",
            "                            'sale_link': 'http://www.zillow.com/vose-beaverton-or/',\n",
            "                            'zillow_home_value_index': None},\n",
            "    'similarity_score': None,\n",
            "    'zestimate': {   'amount': 595960,\n",
            "                     'amount_change_30days': -2126,\n",
            "                     'amount_currency': 'USD',\n",
            "                     'amount_last_updated': '06/28/2020',\n",
            "                     'valuation_range_high': 625758,\n",
            "                     'valuation_range_low': 566162},\n",
            "    'zpid': '48550581'}\n"
          ],
          "name": "stdout"
        }
      ]
    },
    {
      "cell_type": "code",
      "metadata": {
        "id": "7RsGjFlBc4SD",
        "colab_type": "code",
        "colab": {
          "base_uri": "https://localhost:8080/",
          "height": 204
        },
        "outputId": "d13d0488-ce3a-4434-b01e-809c5028a962"
      },
      "source": [
        "# Returns dictionary, first key 'comps' is list of place objects for the comparable homes - 'princpal' is original home\n",
        "comp_data = api.GetDeepComps(key,deep_results.zpid,10)\n",
        "comp_data"
      ],
      "execution_count": 23,
      "outputs": [
        {
          "output_type": "execute_result",
          "data": {
            "text/plain": [
              "{'comps': [<zillow.place.Place at 0x7f9d6e635c48>,\n",
              "  <zillow.place.Place at 0x7f9d6cd2bf88>,\n",
              "  <zillow.place.Place at 0x7f9d6cd19148>,\n",
              "  <zillow.place.Place at 0x7f9d6cd192c8>,\n",
              "  <zillow.place.Place at 0x7f9d6cd19448>,\n",
              "  <zillow.place.Place at 0x7f9d6cd19608>,\n",
              "  <zillow.place.Place at 0x7f9d6cd19788>,\n",
              "  <zillow.place.Place at 0x7f9d6cd19908>,\n",
              "  <zillow.place.Place at 0x7f9d6cd19a88>,\n",
              "  <zillow.place.Place at 0x7f9d6cd195c8>],\n",
              " 'principal': <zillow.place.Place at 0x7f9d6cd1b3c8>}"
            ]
          },
          "metadata": {
            "tags": []
          },
          "execution_count": 23
        }
      ]
    },
    {
      "cell_type": "code",
      "metadata": {
        "id": "3WoookVWdk7F",
        "colab_type": "code",
        "colab": {
          "base_uri": "https://localhost:8080/",
          "height": 1000
        },
        "outputId": "9fcb2ff9-bb2d-448a-806a-e30cced5ce65"
      },
      "source": [
        "for z in comp_data['comps']:\n",
        "  pp.pprint(z.get_dict())"
      ],
      "execution_count": 24,
      "outputs": [
        {
          "output_type": "stream",
          "text": [
            "{   'extended_data': {   'bathrooms': None,\n",
            "                         'bedrooms': None,\n",
            "                         'complete': False,\n",
            "                         'finished_sqft': None,\n",
            "                         'fips_county': None,\n",
            "                         'last_sold_date': None,\n",
            "                         'last_sold_price': None,\n",
            "                         'lot_size_sqft': None,\n",
            "                         'tax_assessment': None,\n",
            "                         'tax_assessment_year': None,\n",
            "                         'usecode': None,\n",
            "                         'year_built': None},\n",
            "    'full_address': {   'city': 'Portland',\n",
            "                        'latitude': '45.461847',\n",
            "                        'longitude': '-122.758008',\n",
            "                        'state': 'OR',\n",
            "                        'street': '8040 SW Oleson Rd',\n",
            "                        'zipcode': '97223'},\n",
            "    'links': {   'comparables': 'http://www.zillow.com/homes/comps/48585507_zpid/',\n",
            "                 'graphs_and_data': 'http://www.zillow.com/homedetails/8040-SW-Oleson-Rd-Portland-OR-97223/48585507_zpid/#charts-and-data',\n",
            "                 'home_details': 'https://www.zillow.com/homedetails/8040-SW-Oleson-Rd-Portland-OR-97223/48585507_zpid/',\n",
            "                 'map_this_home': 'http://www.zillow.com/homes/48585507_zpid/'},\n",
            "    'local_realestate': {   'fsbo_link': 'http://www.zillow.com/garden-home-whitford-or/fsbo/',\n",
            "                            'overview_link': 'http://www.zillow.com/local-info/OR-Garden-Home--Whitford/r_396843/',\n",
            "                            'region_id': '396843',\n",
            "                            'region_name': 'Garden Home-Whitford',\n",
            "                            'region_type': 'city',\n",
            "                            'sale_link': 'http://www.zillow.com/garden-home-whitford-or/',\n",
            "                            'zillow_home_value_index': None},\n",
            "    'similarity_score': '8.0',\n",
            "    'zestimate': {   'amount': 362324,\n",
            "                     'amount_change_30days': -1201,\n",
            "                     'amount_currency': 'USD',\n",
            "                     'amount_last_updated': '06/28/2020',\n",
            "                     'valuation_range_high': 380440,\n",
            "                     'valuation_range_low': 344208},\n",
            "    'zpid': '48585507'}\n",
            "{   'extended_data': {   'bathrooms': None,\n",
            "                         'bedrooms': None,\n",
            "                         'complete': False,\n",
            "                         'finished_sqft': None,\n",
            "                         'fips_county': None,\n",
            "                         'last_sold_date': None,\n",
            "                         'last_sold_price': None,\n",
            "                         'lot_size_sqft': None,\n",
            "                         'tax_assessment': None,\n",
            "                         'tax_assessment_year': None,\n",
            "                         'usecode': None,\n",
            "                         'year_built': None},\n",
            "    'full_address': {   'city': 'Portland',\n",
            "                        'latitude': '45.443054',\n",
            "                        'longitude': '-122.728768',\n",
            "                        'state': 'OR',\n",
            "                        'street': '5024 SW Buddington St',\n",
            "                        'zipcode': '97219'},\n",
            "    'links': {   'comparables': 'http://www.zillow.com/homes/comps/53982832_zpid/',\n",
            "                 'graphs_and_data': 'http://www.zillow.com/homedetails/5024-SW-Buddington-St-Portland-OR-97219/53982832_zpid/#charts-and-data',\n",
            "                 'home_details': 'https://www.zillow.com/homedetails/5024-SW-Buddington-St-Portland-OR-97219/53982832_zpid/',\n",
            "                 'map_this_home': 'http://www.zillow.com/homes/53982832_zpid/'},\n",
            "    'local_realestate': {   'fsbo_link': 'http://www.zillow.com/far-southwest-portland-or/fsbo/',\n",
            "                            'overview_link': 'http://www.zillow.com/local-info/OR-Portland/Far-Southwest/r_271087/',\n",
            "                            'region_id': '271087',\n",
            "                            'region_name': 'Far Southwest',\n",
            "                            'region_type': 'neighborhood',\n",
            "                            'sale_link': 'http://www.zillow.com/far-southwest-portland-or/',\n",
            "                            'zillow_home_value_index': None},\n",
            "    'similarity_score': '13.0',\n",
            "    'zestimate': {   'amount': None,\n",
            "                     'amount_change_30days': None,\n",
            "                     'amount_currency': 'USD',\n",
            "                     'amount_last_updated': '01/01/1970',\n",
            "                     'valuation_range_high': None,\n",
            "                     'valuation_range_low': None},\n",
            "    'zpid': '53982832'}\n",
            "{   'extended_data': {   'bathrooms': None,\n",
            "                         'bedrooms': None,\n",
            "                         'complete': False,\n",
            "                         'finished_sqft': None,\n",
            "                         'fips_county': None,\n",
            "                         'last_sold_date': None,\n",
            "                         'last_sold_price': None,\n",
            "                         'lot_size_sqft': None,\n",
            "                         'tax_assessment': None,\n",
            "                         'tax_assessment_year': None,\n",
            "                         'usecode': None,\n",
            "                         'year_built': None},\n",
            "    'full_address': {   'city': 'Beaverton',\n",
            "                        'latitude': '45.439958',\n",
            "                        'longitude': '-122.818892',\n",
            "                        'state': 'OR',\n",
            "                        'street': '13760 SW Scholls Ferry Rd UNIT 101',\n",
            "                        'zipcode': '97007'},\n",
            "    'links': {   'comparables': 'http://www.zillow.com/homes/comps/62985716_zpid/',\n",
            "                 'graphs_and_data': 'http://www.zillow.com/homedetails/13760-SW-Scholls-Ferry-Rd-UNIT-101-Beaverton-OR-97007/62985716_zpid/#charts-and-data',\n",
            "                 'home_details': 'https://www.zillow.com/homedetails/13760-SW-Scholls-Ferry-Rd-UNIT-101-Beaverton-OR-97007/62985716_zpid/',\n",
            "                 'map_this_home': 'http://www.zillow.com/homes/62985716_zpid/'},\n",
            "    'local_realestate': {   'fsbo_link': 'http://www.zillow.com/neighbors-southwest-beaverton-or/fsbo/',\n",
            "                            'overview_link': 'http://www.zillow.com/local-info/OR-Beaverton/Neighbors-Southwest/r_274653/',\n",
            "                            'region_id': '274653',\n",
            "                            'region_name': 'Neighbors Southwest',\n",
            "                            'region_type': 'neighborhood',\n",
            "                            'sale_link': 'http://www.zillow.com/neighbors-southwest-beaverton-or/',\n",
            "                            'zillow_home_value_index': None},\n",
            "    'similarity_score': '18.0',\n",
            "    'zestimate': {   'amount': 334640,\n",
            "                     'amount_change_30days': -826,\n",
            "                     'amount_currency': 'USD',\n",
            "                     'amount_last_updated': '06/28/2020',\n",
            "                     'valuation_range_high': 354718,\n",
            "                     'valuation_range_low': 317908},\n",
            "    'zpid': '62985716'}\n",
            "{   'extended_data': {   'bathrooms': None,\n",
            "                         'bedrooms': None,\n",
            "                         'complete': False,\n",
            "                         'finished_sqft': None,\n",
            "                         'fips_county': None,\n",
            "                         'last_sold_date': None,\n",
            "                         'last_sold_price': None,\n",
            "                         'lot_size_sqft': None,\n",
            "                         'tax_assessment': None,\n",
            "                         'tax_assessment_year': None,\n",
            "                         'usecode': None,\n",
            "                         'year_built': None},\n",
            "    'full_address': {   'city': 'Beaverton',\n",
            "                        'latitude': '45.46359',\n",
            "                        'longitude': '-122.799392',\n",
            "                        'state': 'OR',\n",
            "                        'street': '7775 SW Hillcrest Pl',\n",
            "                        'zipcode': '97008'},\n",
            "    'links': {   'comparables': 'http://www.zillow.com/homes/comps/48550581_zpid/',\n",
            "                 'graphs_and_data': 'http://www.zillow.com/homedetails/7775-SW-Hillcrest-Pl-Beaverton-OR-97008/48550581_zpid/#charts-and-data',\n",
            "                 'home_details': 'https://www.zillow.com/homedetails/7775-SW-Hillcrest-Pl-Beaverton-OR-97008/48550581_zpid/',\n",
            "                 'map_this_home': 'http://www.zillow.com/homes/48550581_zpid/'},\n",
            "    'local_realestate': {   'fsbo_link': 'http://www.zillow.com/vose-beaverton-or/fsbo/',\n",
            "                            'overview_link': 'http://www.zillow.com/local-info/OR-Beaverton/Vose/r_275899/',\n",
            "                            'region_id': '275899',\n",
            "                            'region_name': 'Vose',\n",
            "                            'region_type': 'neighborhood',\n",
            "                            'sale_link': 'http://www.zillow.com/vose-beaverton-or/',\n",
            "                            'zillow_home_value_index': None},\n",
            "    'similarity_score': '18.0',\n",
            "    'zestimate': {   'amount': 595960,\n",
            "                     'amount_change_30days': -2126,\n",
            "                     'amount_currency': 'USD',\n",
            "                     'amount_last_updated': '06/28/2020',\n",
            "                     'valuation_range_high': 625758,\n",
            "                     'valuation_range_low': 566162},\n",
            "    'zpid': '48550581'}\n",
            "{   'extended_data': {   'bathrooms': None,\n",
            "                         'bedrooms': None,\n",
            "                         'complete': False,\n",
            "                         'finished_sqft': None,\n",
            "                         'fips_county': None,\n",
            "                         'last_sold_date': None,\n",
            "                         'last_sold_price': None,\n",
            "                         'lot_size_sqft': None,\n",
            "                         'tax_assessment': None,\n",
            "                         'tax_assessment_year': None,\n",
            "                         'usecode': None,\n",
            "                         'year_built': None},\n",
            "    'full_address': {   'city': 'Beaverton',\n",
            "                        'latitude': '45.461868',\n",
            "                        'longitude': '-122.781255',\n",
            "                        'state': 'OR',\n",
            "                        'street': '10140 SW Crystal St',\n",
            "                        'zipcode': '97008'},\n",
            "    'links': {   'comparables': 'http://www.zillow.com/homes/comps/48586590_zpid/',\n",
            "                 'graphs_and_data': 'http://www.zillow.com/homedetails/10140-SW-Crystal-St-Beaverton-OR-97008/48586590_zpid/#charts-and-data',\n",
            "                 'home_details': 'https://www.zillow.com/homedetails/10140-SW-Crystal-St-Beaverton-OR-97008/48586590_zpid/',\n",
            "                 'map_this_home': 'http://www.zillow.com/homes/48586590_zpid/'},\n",
            "    'local_realestate': {   'fsbo_link': 'http://www.zillow.com/denny-whitford-raleigh-west-beaverton-or/fsbo/',\n",
            "                            'overview_link': 'http://www.zillow.com/local-info/OR-Beaverton/Denny-Whitford----Raleigh-West/r_276294/',\n",
            "                            'region_id': '276294',\n",
            "                            'region_name': 'Denny Whitford - Raleigh West',\n",
            "                            'region_type': 'neighborhood',\n",
            "                            'sale_link': 'http://www.zillow.com/denny-whitford-raleigh-west-beaverton-or/',\n",
            "                            'zillow_home_value_index': None},\n",
            "    'similarity_score': '10.0',\n",
            "    'zestimate': {   'amount': 483199,\n",
            "                     'amount_change_30days': -1628,\n",
            "                     'amount_currency': 'USD',\n",
            "                     'amount_last_updated': '06/28/2020',\n",
            "                     'valuation_range_high': 507359,\n",
            "                     'valuation_range_low': 459039},\n",
            "    'zpid': '48586590'}\n",
            "{   'extended_data': {   'bathrooms': None,\n",
            "                         'bedrooms': None,\n",
            "                         'complete': False,\n",
            "                         'finished_sqft': None,\n",
            "                         'fips_county': None,\n",
            "                         'last_sold_date': None,\n",
            "                         'last_sold_price': None,\n",
            "                         'lot_size_sqft': None,\n",
            "                         'tax_assessment': None,\n",
            "                         'tax_assessment_year': None,\n",
            "                         'usecode': None,\n",
            "                         'year_built': None},\n",
            "    'full_address': {   'city': 'Lake Oswego',\n",
            "                        'latitude': '45.397238',\n",
            "                        'longitude': '-122.73084',\n",
            "                        'state': 'OR',\n",
            "                        'street': '5225 Jean Rd APT 603',\n",
            "                        'zipcode': '97035'},\n",
            "    'links': {   'comparables': 'http://www.zillow.com/homes/comps/248013596_zpid/',\n",
            "                 'graphs_and_data': 'http://www.zillow.com/homedetails/5225-Jean-Rd-APT-603-Lake-Oswego-OR-97035/248013596_zpid/#charts-and-data',\n",
            "                 'home_details': 'https://www.zillow.com/homedetails/5225-Jean-Rd-APT-603-Lake-Oswego-OR-97035/248013596_zpid/',\n",
            "                 'map_this_home': 'http://www.zillow.com/homes/248013596_zpid/'},\n",
            "    'local_realestate': {   'fsbo_link': 'http://www.zillow.com/bryant-lake-oswego-or/fsbo/',\n",
            "                            'overview_link': 'http://www.zillow.com/local-info/OR-Lake-Oswego/Bryant/r_206571/',\n",
            "                            'region_id': '206571',\n",
            "                            'region_name': 'Bryant',\n",
            "                            'region_type': 'neighborhood',\n",
            "                            'sale_link': 'http://www.zillow.com/bryant-lake-oswego-or/',\n",
            "                            'zillow_home_value_index': None},\n",
            "    'similarity_score': '18.0',\n",
            "    'zestimate': {   'amount': None,\n",
            "                     'amount_change_30days': None,\n",
            "                     'amount_currency': 'USD',\n",
            "                     'amount_last_updated': '01/01/1970',\n",
            "                     'valuation_range_high': None,\n",
            "                     'valuation_range_low': None},\n",
            "    'zpid': '248013596'}\n",
            "{   'extended_data': {   'bathrooms': None,\n",
            "                         'bedrooms': None,\n",
            "                         'complete': False,\n",
            "                         'finished_sqft': None,\n",
            "                         'fips_county': None,\n",
            "                         'last_sold_date': None,\n",
            "                         'last_sold_price': None,\n",
            "                         'lot_size_sqft': None,\n",
            "                         'tax_assessment': None,\n",
            "                         'tax_assessment_year': None,\n",
            "                         'usecode': None,\n",
            "                         'year_built': None},\n",
            "    'full_address': {   'city': 'Beaverton',\n",
            "                        'latitude': '45.462957',\n",
            "                        'longitude': '-122.801243',\n",
            "                        'state': 'OR',\n",
            "                        'street': '12105 SW Tesla Ter',\n",
            "                        'zipcode': '97008'},\n",
            "    'links': {   'comparables': 'http://www.zillow.com/homes/comps/251279304_zpid/',\n",
            "                 'graphs_and_data': 'http://www.zillow.com/homedetails/12105-SW-Tesla-Ter-Beaverton-OR-97008/251279304_zpid/#charts-and-data',\n",
            "                 'home_details': 'https://www.zillow.com/homedetails/12105-SW-Tesla-Ter-Beaverton-OR-97008/251279304_zpid/',\n",
            "                 'map_this_home': 'http://www.zillow.com/homes/251279304_zpid/'},\n",
            "    'local_realestate': {   'fsbo_link': 'http://www.zillow.com/greenway-beaverton-or/fsbo/',\n",
            "                            'overview_link': 'http://www.zillow.com/local-info/OR-Beaverton/Greenway/r_273899/',\n",
            "                            'region_id': '273899',\n",
            "                            'region_name': 'Greenway',\n",
            "                            'region_type': 'neighborhood',\n",
            "                            'sale_link': 'http://www.zillow.com/greenway-beaverton-or/',\n",
            "                            'zillow_home_value_index': None},\n",
            "    'similarity_score': '11.0',\n",
            "    'zestimate': {   'amount': 836640,\n",
            "                     'amount_change_30days': -3410,\n",
            "                     'amount_currency': 'USD',\n",
            "                     'amount_last_updated': '06/28/2020',\n",
            "                     'valuation_range_high': 878472,\n",
            "                     'valuation_range_low': 794808},\n",
            "    'zpid': '251279304'}\n",
            "{   'extended_data': {   'bathrooms': None,\n",
            "                         'bedrooms': None,\n",
            "                         'complete': False,\n",
            "                         'finished_sqft': None,\n",
            "                         'fips_county': None,\n",
            "                         'last_sold_date': None,\n",
            "                         'last_sold_price': None,\n",
            "                         'lot_size_sqft': None,\n",
            "                         'tax_assessment': None,\n",
            "                         'tax_assessment_year': None,\n",
            "                         'usecode': None,\n",
            "                         'year_built': None},\n",
            "    'full_address': {   'city': 'Tigard',\n",
            "                        'latitude': '45.418506',\n",
            "                        'longitude': '-122.783158',\n",
            "                        'state': 'OR',\n",
            "                        'street': '10330 SW Mcdonald St',\n",
            "                        'zipcode': '97224'},\n",
            "    'links': {   'comparables': 'http://www.zillow.com/homes/comps/48606640_zpid/',\n",
            "                 'graphs_and_data': 'http://www.zillow.com/homedetails/10330-SW-Mcdonald-St-Tigard-OR-97224/48606640_zpid/#charts-and-data',\n",
            "                 'home_details': 'https://www.zillow.com/homedetails/10330-SW-Mcdonald-St-Tigard-OR-97224/48606640_zpid/',\n",
            "                 'map_this_home': 'http://www.zillow.com/homes/48606640_zpid/'},\n",
            "    'local_realestate': {   'fsbo_link': 'http://www.zillow.com/southview-tigard-or/fsbo/',\n",
            "                            'overview_link': 'http://www.zillow.com/local-info/OR-Tigard/Southview/r_405943/',\n",
            "                            'region_id': '405943',\n",
            "                            'region_name': 'Southview',\n",
            "                            'region_type': 'neighborhood',\n",
            "                            'sale_link': 'http://www.zillow.com/southview-tigard-or/',\n",
            "                            'zillow_home_value_index': None},\n",
            "    'similarity_score': '6.0',\n",
            "    'zestimate': {   'amount': 417233,\n",
            "                     'amount_change_30days': -1673,\n",
            "                     'amount_currency': 'USD',\n",
            "                     'amount_last_updated': '06/28/2020',\n",
            "                     'valuation_range_high': 438095,\n",
            "                     'valuation_range_low': 396371},\n",
            "    'zpid': '48606640'}\n",
            "{   'extended_data': {   'bathrooms': None,\n",
            "                         'bedrooms': None,\n",
            "                         'complete': False,\n",
            "                         'finished_sqft': None,\n",
            "                         'fips_county': None,\n",
            "                         'last_sold_date': None,\n",
            "                         'last_sold_price': None,\n",
            "                         'lot_size_sqft': None,\n",
            "                         'tax_assessment': None,\n",
            "                         'tax_assessment_year': None,\n",
            "                         'usecode': None,\n",
            "                         'year_built': None},\n",
            "    'full_address': {   'city': 'Beaverton',\n",
            "                        'latitude': '45.475695',\n",
            "                        'longitude': '-122.816514',\n",
            "                        'state': 'OR',\n",
            "                        'street': '6115 SW Shannon Ct',\n",
            "                        'zipcode': '97008'},\n",
            "    'links': {   'comparables': 'http://www.zillow.com/homes/comps/48548326_zpid/',\n",
            "                 'graphs_and_data': 'http://www.zillow.com/homedetails/6115-SW-Shannon-Ct-Beaverton-OR-97008/48548326_zpid/#charts-and-data',\n",
            "                 'home_details': 'https://www.zillow.com/homedetails/6115-SW-Shannon-Ct-Beaverton-OR-97008/48548326_zpid/',\n",
            "                 'map_this_home': 'http://www.zillow.com/homes/48548326_zpid/'},\n",
            "    'local_realestate': {   'fsbo_link': 'http://www.zillow.com/highland-beaverton-or/fsbo/',\n",
            "                            'overview_link': 'http://www.zillow.com/local-info/OR-Beaverton/Highland/r_274008/',\n",
            "                            'region_id': '274008',\n",
            "                            'region_name': 'Highland',\n",
            "                            'region_type': 'neighborhood',\n",
            "                            'sale_link': 'http://www.zillow.com/highland-beaverton-or/',\n",
            "                            'zillow_home_value_index': None},\n",
            "    'similarity_score': '17.0',\n",
            "    'zestimate': {   'amount': 473685,\n",
            "                     'amount_change_30days': -1195,\n",
            "                     'amount_currency': 'USD',\n",
            "                     'amount_last_updated': '06/28/2020',\n",
            "                     'valuation_range_high': 502106,\n",
            "                     'valuation_range_low': 450001},\n",
            "    'zpid': '48548326'}\n",
            "{   'extended_data': {   'bathrooms': None,\n",
            "                         'bedrooms': None,\n",
            "                         'complete': False,\n",
            "                         'finished_sqft': None,\n",
            "                         'fips_county': None,\n",
            "                         'last_sold_date': None,\n",
            "                         'last_sold_price': None,\n",
            "                         'lot_size_sqft': None,\n",
            "                         'tax_assessment': None,\n",
            "                         'tax_assessment_year': None,\n",
            "                         'usecode': None,\n",
            "                         'year_built': None},\n",
            "    'full_address': {   'city': 'Portland',\n",
            "                        'latitude': '45.460896',\n",
            "                        'longitude': '-122.763607',\n",
            "                        'state': 'OR',\n",
            "                        'street': '8176 SW 85th Ave',\n",
            "                        'zipcode': '97223'},\n",
            "    'links': {   'comparables': 'http://www.zillow.com/homes/comps/48563168_zpid/',\n",
            "                 'graphs_and_data': 'http://www.zillow.com/homedetails/8176-SW-85th-Ave-Portland-OR-97223/48563168_zpid/#charts-and-data',\n",
            "                 'home_details': 'https://www.zillow.com/homedetails/8176-SW-85th-Ave-Portland-OR-97223/48563168_zpid/',\n",
            "                 'map_this_home': 'http://www.zillow.com/homes/48563168_zpid/'},\n",
            "    'local_realestate': {   'fsbo_link': 'http://www.zillow.com/garden-home-whitford-or/fsbo/',\n",
            "                            'overview_link': 'http://www.zillow.com/local-info/OR-Garden-Home--Whitford/r_396843/',\n",
            "                            'region_id': '396843',\n",
            "                            'region_name': 'Garden Home-Whitford',\n",
            "                            'region_type': 'city',\n",
            "                            'sale_link': 'http://www.zillow.com/garden-home-whitford-or/',\n",
            "                            'zillow_home_value_index': None},\n",
            "    'similarity_score': '8.0',\n",
            "    'zestimate': {   'amount': 470659,\n",
            "                     'amount_change_30days': -21,\n",
            "                     'amount_currency': 'USD',\n",
            "                     'amount_last_updated': '06/28/2020',\n",
            "                     'valuation_range_high': 494192,\n",
            "                     'valuation_range_low': 447126},\n",
            "    'zpid': '48563168'}\n"
          ],
          "name": "stdout"
        }
      ]
    },
    {
      "cell_type": "code",
      "metadata": {
        "id": "S4Lbm7WbokjX",
        "colab_type": "code",
        "colab": {
          "base_uri": "https://localhost:8080/",
          "height": 306
        },
        "outputId": "9b55319a-8bd4-4186-f9c2-998a4e4cc2c9"
      },
      "source": [
        "cmp_df = pd.read_json(comp_data['comps'][0].get_dict())"
      ],
      "execution_count": 20,
      "outputs": [
        {
          "output_type": "error",
          "ename": "ValueError",
          "evalue": "ignored",
          "traceback": [
            "\u001b[0;31m---------------------------------------------------------------------------\u001b[0m",
            "\u001b[0;31mValueError\u001b[0m                                Traceback (most recent call last)",
            "\u001b[0;32m<ipython-input-20-01418540fb56>\u001b[0m in \u001b[0;36m<module>\u001b[0;34m()\u001b[0m\n\u001b[0;32m----> 1\u001b[0;31m \u001b[0mcmp_df\u001b[0m \u001b[0;34m=\u001b[0m \u001b[0mpd\u001b[0m\u001b[0;34m.\u001b[0m\u001b[0mread_json\u001b[0m\u001b[0;34m(\u001b[0m\u001b[0mcomp_data\u001b[0m\u001b[0;34m[\u001b[0m\u001b[0;34m'comps'\u001b[0m\u001b[0;34m]\u001b[0m\u001b[0;34m[\u001b[0m\u001b[0;36m0\u001b[0m\u001b[0;34m]\u001b[0m\u001b[0;34m.\u001b[0m\u001b[0mget_dict\u001b[0m\u001b[0;34m(\u001b[0m\u001b[0;34m)\u001b[0m\u001b[0;34m)\u001b[0m\u001b[0;34m\u001b[0m\u001b[0;34m\u001b[0m\u001b[0m\n\u001b[0m",
            "\u001b[0;32m/usr/local/lib/python3.6/dist-packages/pandas/util/_decorators.py\u001b[0m in \u001b[0;36mwrapper\u001b[0;34m(*args, **kwargs)\u001b[0m\n\u001b[1;32m    212\u001b[0m                 \u001b[0;32melse\u001b[0m\u001b[0;34m:\u001b[0m\u001b[0;34m\u001b[0m\u001b[0;34m\u001b[0m\u001b[0m\n\u001b[1;32m    213\u001b[0m                     \u001b[0mkwargs\u001b[0m\u001b[0;34m[\u001b[0m\u001b[0mnew_arg_name\u001b[0m\u001b[0;34m]\u001b[0m \u001b[0;34m=\u001b[0m \u001b[0mnew_arg_value\u001b[0m\u001b[0;34m\u001b[0m\u001b[0;34m\u001b[0m\u001b[0m\n\u001b[0;32m--> 214\u001b[0;31m             \u001b[0;32mreturn\u001b[0m \u001b[0mfunc\u001b[0m\u001b[0;34m(\u001b[0m\u001b[0;34m*\u001b[0m\u001b[0margs\u001b[0m\u001b[0;34m,\u001b[0m \u001b[0;34m**\u001b[0m\u001b[0mkwargs\u001b[0m\u001b[0;34m)\u001b[0m\u001b[0;34m\u001b[0m\u001b[0;34m\u001b[0m\u001b[0m\n\u001b[0m\u001b[1;32m    215\u001b[0m \u001b[0;34m\u001b[0m\u001b[0m\n\u001b[1;32m    216\u001b[0m         \u001b[0;32mreturn\u001b[0m \u001b[0mcast\u001b[0m\u001b[0;34m(\u001b[0m\u001b[0mF\u001b[0m\u001b[0;34m,\u001b[0m \u001b[0mwrapper\u001b[0m\u001b[0;34m)\u001b[0m\u001b[0;34m\u001b[0m\u001b[0;34m\u001b[0m\u001b[0m\n",
            "\u001b[0;32m/usr/local/lib/python3.6/dist-packages/pandas/io/json/_json.py\u001b[0m in \u001b[0;36mread_json\u001b[0;34m(path_or_buf, orient, typ, dtype, convert_axes, convert_dates, keep_default_dates, numpy, precise_float, date_unit, encoding, lines, chunksize, compression)\u001b[0m\n\u001b[1;32m    583\u001b[0m     \u001b[0mcompression\u001b[0m \u001b[0;34m=\u001b[0m \u001b[0minfer_compression\u001b[0m\u001b[0;34m(\u001b[0m\u001b[0mpath_or_buf\u001b[0m\u001b[0;34m,\u001b[0m \u001b[0mcompression\u001b[0m\u001b[0;34m)\u001b[0m\u001b[0;34m\u001b[0m\u001b[0;34m\u001b[0m\u001b[0m\n\u001b[1;32m    584\u001b[0m     filepath_or_buffer, _, compression, should_close = get_filepath_or_buffer(\n\u001b[0;32m--> 585\u001b[0;31m         \u001b[0mpath_or_buf\u001b[0m\u001b[0;34m,\u001b[0m \u001b[0mencoding\u001b[0m\u001b[0;34m=\u001b[0m\u001b[0mencoding\u001b[0m\u001b[0;34m,\u001b[0m \u001b[0mcompression\u001b[0m\u001b[0;34m=\u001b[0m\u001b[0mcompression\u001b[0m\u001b[0;34m\u001b[0m\u001b[0;34m\u001b[0m\u001b[0m\n\u001b[0m\u001b[1;32m    586\u001b[0m     )\n\u001b[1;32m    587\u001b[0m \u001b[0;34m\u001b[0m\u001b[0m\n",
            "\u001b[0;32m/usr/local/lib/python3.6/dist-packages/pandas/io/common.py\u001b[0m in \u001b[0;36mget_filepath_or_buffer\u001b[0;34m(filepath_or_buffer, encoding, compression, mode)\u001b[0m\n\u001b[1;32m    198\u001b[0m     \u001b[0;32mif\u001b[0m \u001b[0;32mnot\u001b[0m \u001b[0mis_file_like\u001b[0m\u001b[0;34m(\u001b[0m\u001b[0mfilepath_or_buffer\u001b[0m\u001b[0;34m)\u001b[0m\u001b[0;34m:\u001b[0m\u001b[0;34m\u001b[0m\u001b[0;34m\u001b[0m\u001b[0m\n\u001b[1;32m    199\u001b[0m         \u001b[0mmsg\u001b[0m \u001b[0;34m=\u001b[0m \u001b[0;34mf\"Invalid file path or buffer object type: {type(filepath_or_buffer)}\"\u001b[0m\u001b[0;34m\u001b[0m\u001b[0;34m\u001b[0m\u001b[0m\n\u001b[0;32m--> 200\u001b[0;31m         \u001b[0;32mraise\u001b[0m \u001b[0mValueError\u001b[0m\u001b[0;34m(\u001b[0m\u001b[0mmsg\u001b[0m\u001b[0;34m)\u001b[0m\u001b[0;34m\u001b[0m\u001b[0;34m\u001b[0m\u001b[0m\n\u001b[0m\u001b[1;32m    201\u001b[0m \u001b[0;34m\u001b[0m\u001b[0m\n\u001b[1;32m    202\u001b[0m     \u001b[0;32mreturn\u001b[0m \u001b[0mfilepath_or_buffer\u001b[0m\u001b[0;34m,\u001b[0m \u001b[0;32mNone\u001b[0m\u001b[0;34m,\u001b[0m \u001b[0mcompression\u001b[0m\u001b[0;34m,\u001b[0m \u001b[0;32mFalse\u001b[0m\u001b[0;34m\u001b[0m\u001b[0;34m\u001b[0m\u001b[0m\n",
            "\u001b[0;31mValueError\u001b[0m: Invalid file path or buffer object type: <class 'dict'>"
          ]
        }
      ]
    },
    {
      "cell_type": "code",
      "metadata": {
        "id": "t2F1zdDGd_Jq",
        "colab_type": "code",
        "colab": {
          "base_uri": "https://localhost:8080/",
          "height": 187
        },
        "outputId": "af88e1ae-8168-441c-9b72-4003382ba0a9"
      },
      "source": [
        "comp_data['comps']"
      ],
      "execution_count": null,
      "outputs": [
        {
          "output_type": "execute_result",
          "data": {
            "text/plain": [
              "[<zillow.place.Place at 0x7f9d6f7fcec8>,\n",
              " <zillow.place.Place at 0x7f9d6f809308>,\n",
              " <zillow.place.Place at 0x7f9d6f809488>,\n",
              " <zillow.place.Place at 0x7f9d6f809608>,\n",
              " <zillow.place.Place at 0x7f9d6f809788>,\n",
              " <zillow.place.Place at 0x7f9d6f809948>,\n",
              " <zillow.place.Place at 0x7f9d6f809ac8>,\n",
              " <zillow.place.Place at 0x7f9d6f809c48>,\n",
              " <zillow.place.Place at 0x7f9d6f809dc8>,\n",
              " <zillow.place.Place at 0x7f9d6f809908>]"
            ]
          },
          "metadata": {
            "tags": []
          },
          "execution_count": 11
        }
      ]
    },
    {
      "cell_type": "code",
      "metadata": {
        "id": "yg1Ud6si-b_E",
        "colab_type": "code",
        "colab": {}
      },
      "source": [
        "# pyzillow option\n",
        "deep_search_response = zillow_data.get_deep_search_results('11575 SW Lomita Ave', '97223', True)\n",
        "result = GetDeepSearchResults(deep_search_response)"
      ],
      "execution_count": null,
      "outputs": []
    },
    {
      "cell_type": "code",
      "metadata": {
        "id": "gUm0i3Z9IU-z",
        "colab_type": "code",
        "colab": {
          "base_uri": "https://localhost:8080/",
          "height": 54
        },
        "outputId": "9a6c21e6-baa9-42ee-f0f3-f1b1e2720d3d"
      },
      "source": [
        "# The XML doesn't look as good, I prefer the JSON\n",
        "ET.tostringlist(result.data)"
      ],
      "execution_count": null,
      "outputs": [
        {
          "output_type": "execute_result",
          "data": {
            "text/plain": [
              "[b'<results><result><zpid>48590190</zpid><links><homedetails>http://www.zillow.com/homedetails/11575-SW-Lomita-Ave-Tigard-OR-97223/48590190_zpid/</homedetails><graphsanddata>http://www.zillow.com/homedetails/11575-SW-Lomita-Ave-Tigard-OR-97223/48590190_zpid/#charts-and-data</graphsanddata><mapthishome>http://www.zillow.com/homes/48590190_zpid/</mapthishome><comparables>http://www.zillow.com/homes/comps/48590190_zpid/</comparables></links><address><street>11575 SW Lomita Ave</street><zipcode>97223</zipcode><city>Tigard</city><state>OR</state><latitude>45.436425</latitude><longitude>-122.76843</longitude></address><FIPScounty>41067</FIPScounty><useCode>MultiFamily2To4</useCode><taxAssessmentYear>2019</taxAssessmentYear><taxAssessment>331990.0</taxAssessment><yearBuilt>1962</yearBuilt><lotSizeSqFt>7841</lotSizeSqFt><finishedSqFt>1728</finishedSqFt><bathrooms>2.0</bathrooms><bedrooms>4</bedrooms><lastSoldDate>09/28/2018</lastSoldDate><lastSoldPrice currency=\"USD\">390000</lastSoldPrice><zestimate><amount currency=\"USD\">410214</amount><last-updated>06/28/2020</last-updated><oneWeekChange deprecated=\"true\" /><valueChange currency=\"USD\" duration=\"30\">-2844</valueChange><valuationRange><low currency=\"USD\">385601</low><high currency=\"USD\">434827</high></valuationRange><percentile>0</percentile></zestimate><rentzestimate><amount currency=\"USD\">1650</amount><last-updated>06/25/2020</last-updated><oneWeekChange deprecated=\"true\" /><valueChange currency=\"USD\" duration=\"30\">122</valueChange><valuationRange><low currency=\"USD\">1353</low><high currency=\"USD\">2195</high></valuationRange></rentzestimate><localRealEstate><region id=\"399414\" name=\"Greenburg Road\" type=\"neighborhood\"><links><overview>http://www.zillow.com/local-info/OR-Tigard/Greenburg-Road/r_399414/</overview><forSaleByOwner>http://www.zillow.com/greenburg-road-tigard-or/fsbo/</forSaleByOwner><forSale>http://www.zillow.com/greenburg-road-tigard-or/</forSale></links></region></localRealEstate></result></results>']"
            ]
          },
          "metadata": {
            "tags": []
          },
          "execution_count": 13
        }
      ]
    },
    {
      "cell_type": "code",
      "metadata": {
        "id": "EPz2xlvLdAHX",
        "colab_type": "code",
        "colab": {}
      },
      "source": [
        ""
      ],
      "execution_count": null,
      "outputs": []
    }
  ]
}